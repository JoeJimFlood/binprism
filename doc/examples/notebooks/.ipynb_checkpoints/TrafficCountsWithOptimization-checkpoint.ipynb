{
 "cells": [
  {
   "cell_type": "code",
   "execution_count": 1,
   "id": "32ff6cdf",
   "metadata": {},
   "outputs": [],
   "source": [
    "import numpy as np\n",
    "import matplotlib.pyplot as plt\n",
    "import binprism as bp\n",
    "from scipy.stats import pearsonr as r\n",
    "import time"
   ]
  },
  {
   "cell_type": "code",
   "execution_count": 2,
   "id": "4c0de940",
   "metadata": {},
   "outputs": [],
   "source": [
    "eb_counts = [590, 353, 301, 230, 393, 655, 1469, 2067, 2549, 2375, 1783, 2076,\n",
    "             2193, 2017, 2513, 3262, 3294, 2915, 2657, 2412, 2323, 1928, 1925, 1118]\n",
    "wb_counts = [387, 316, 237, 219, 442, 1491, 2472, 2716, 2809, 2294, 2159, 1991,\n",
    "             2380, 2119, 2052, 2333, 2434, 2122, 2188, 2385, 1821, 1760, 1314, 836]\n",
    "hours = list(range(24))\n",
    "n_harmonics = 5\n",
    "time_range = (0, 24)"
   ]
  },
  {
   "cell_type": "markdown",
   "id": "821e81c2",
   "metadata": {},
   "source": [
    "# Estimate profiles"
   ]
  },
  {
   "cell_type": "code",
   "execution_count": 3,
   "id": "a9cd9907",
   "metadata": {},
   "outputs": [
    {
     "name": "stdout",
     "output_type": "stream",
     "text": [
      "Eastbound: 0.016954421997070312\n",
      "Westbound: 0.007977724075317383\n",
      "Total:     0.024932146072387695\n"
     ]
    }
   ],
   "source": [
    "t0 = time.time()\n",
    "eb_profile_linear = bp.fit(eb_counts, hours, n_harmonics, time_range)\n",
    "t1 = time.time()\n",
    "wb_profile_linear = bp.fit(wb_counts, hours, n_harmonics, time_range)\n",
    "t2 = time.time()\n",
    "print('Eastbound: {}'.format(t1 - t0))\n",
    "print('Westbound: {}'.format(t2 - t1))\n",
    "print('Total:     {}'.format(t2 - t0))"
   ]
  },
  {
   "cell_type": "code",
   "execution_count": 4,
   "id": "2b08a9a7",
   "metadata": {},
   "outputs": [
    {
     "ename": "AttributeError",
     "evalue": "module 'time' has no attribute 'tim'",
     "output_type": "error",
     "traceback": [
      "\u001b[1;31m---------------------------------------------------------------------------\u001b[0m",
      "\u001b[1;31mAttributeError\u001b[0m                            Traceback (most recent call last)",
      "Input \u001b[1;32mIn [4]\u001b[0m, in \u001b[0;36m<cell line: 1>\u001b[1;34m()\u001b[0m\n\u001b[1;32m----> 1\u001b[0m t0 \u001b[38;5;241m=\u001b[39m \u001b[43mtime\u001b[49m\u001b[38;5;241;43m.\u001b[39;49m\u001b[43mtim\u001b[49m()\n\u001b[0;32m      2\u001b[0m eb_profile_nonlinear \u001b[38;5;241m=\u001b[39m bp\u001b[38;5;241m.\u001b[39mfit(eb_counts, hours, n_harmonics, time_range, optimize \u001b[38;5;241m=\u001b[39m \u001b[38;5;28;01mTrue\u001b[39;00m)\n\u001b[0;32m      3\u001b[0m t1 \u001b[38;5;241m=\u001b[39m time\u001b[38;5;241m.\u001b[39mtime()\n",
      "\u001b[1;31mAttributeError\u001b[0m: module 'time' has no attribute 'tim'"
     ]
    }
   ],
   "source": [
    "t0 = time.time()\n",
    "eb_profile_nonlinear = bp.fit(eb_counts, hours, n_harmonics, time_range, optimize = True)\n",
    "t1 = time.time()\n",
    "wb_profile_nonlinear = bp.fit(wb_counts, hours, n_harmonics, time_range, optimize = True)\n",
    "t2 = time.time()\n",
    "print('Eastbound: {}'.format(t1 - t0))\n",
    "print('Westbound: {}'.format(t2 - t1))\n",
    "print('Total:     {}'.format(t2 - t0))"
   ]
  },
  {
   "cell_type": "markdown",
   "id": "451aafbd",
   "metadata": {},
   "source": [
    "# Eastbound Check"
   ]
  },
  {
   "cell_type": "code",
   "execution_count": null,
   "id": "d45f2a81",
   "metadata": {},
   "outputs": [],
   "source": [
    "print((eb_profile_linear.dist.log_pdf_coef.c))\n",
    "print((eb_profile_nonlinear.dist.log_pdf_coef.c))"
   ]
  },
  {
   "cell_type": "code",
   "execution_count": null,
   "id": "1dcd3e36",
   "metadata": {},
   "outputs": [],
   "source": [
    "plt.bar(range(24), eb_counts, width = 1, align = 'edge', edgecolor = 'k', facecolor = '#cccccc')\n",
    "eb_profile_linear.plot(1440, label = 'linear')\n",
    "eb_profile_nonlinear.plot(1440, label = 'nonlinear')\n",
    "plt.xlim(0, 24)\n",
    "plt.legend(loc = 'best')\n",
    "plt.show()"
   ]
  },
  {
   "cell_type": "code",
   "execution_count": null,
   "id": "340ef38c",
   "metadata": {},
   "outputs": [],
   "source": [
    "eb_counts_linear = eb_profile_linear[range(25)]\n",
    "eb_counts_nonlinear = eb_profile_nonlinear[range(25)]\n",
    "\n",
    "print('Linear:    ' + str(r(eb_counts, eb_counts_linear)))\n",
    "print('Nonlinear: ' + str(r(eb_counts, eb_counts_nonlinear)))"
   ]
  },
  {
   "cell_type": "markdown",
   "id": "1eaf465b",
   "metadata": {},
   "source": [
    "# Westbound check"
   ]
  },
  {
   "cell_type": "code",
   "execution_count": null,
   "id": "86fd08d6",
   "metadata": {},
   "outputs": [],
   "source": [
    "print((wb_profile_linear.dist.log_pdf_coef.c))\n",
    "print((wb_profile_nonlinear.dist.log_pdf_coef.c))"
   ]
  },
  {
   "cell_type": "code",
   "execution_count": null,
   "id": "d9b48a15",
   "metadata": {},
   "outputs": [],
   "source": [
    "plt.bar(range(24), wb_counts, width = 1, align = 'edge', edgecolor = 'k', facecolor = '#cccccc')\n",
    "wb_profile_linear.plot(1440, label = 'linear')\n",
    "wb_profile_nonlinear.plot(1440, label = 'nonlinear')\n",
    "plt.xlim(0, 24)\n",
    "plt.legend(loc = 'best')\n",
    "plt.show()"
   ]
  },
  {
   "cell_type": "code",
   "execution_count": null,
   "id": "741a0d9f",
   "metadata": {},
   "outputs": [],
   "source": [
    "wb_counts_linear = wb_profile_linear[range(25)]\n",
    "wb_counts_nonlinear = wb_profile_nonlinear[range(25)]\n",
    "\n",
    "print('Linear:    ' + str(r(wb_counts, wb_counts_linear)))\n",
    "print('Nonlinear: ' + str(r(wb_counts, wb_counts_nonlinear)))"
   ]
  }
 ],
 "metadata": {
  "kernelspec": {
   "display_name": "Python 3 (ipykernel)",
   "language": "python",
   "name": "python3"
  },
  "language_info": {
   "codemirror_mode": {
    "name": "ipython",
    "version": 3
   },
   "file_extension": ".py",
   "mimetype": "text/x-python",
   "name": "python",
   "nbconvert_exporter": "python",
   "pygments_lexer": "ipython3",
   "version": "3.10.4"
  }
 },
 "nbformat": 4,
 "nbformat_minor": 5
}
