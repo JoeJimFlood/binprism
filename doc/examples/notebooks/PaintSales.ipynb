{
 "cells": [
  {
   "cell_type": "code",
   "execution_count": 1,
   "id": "14bfb39e",
   "metadata": {},
   "outputs": [],
   "source": [
    "#Data from the US Census Bureau's Monthly Retail Trade statistics (https://www.census.gov/retail/index.html#mrts)\n",
    "\n",
    "import numpy as np\n",
    "import pandas as pd\n",
    "import matplotlib.pyplot as plt\n",
    "import binprism as bp\n",
    "import calendar\n",
    "from datetime import datetime, timedelta"
   ]
  },
  {
   "cell_type": "markdown",
   "id": "b69487d1",
   "metadata": {},
   "source": [
    "# Read in data and plot estimated profile against observed data"
   ]
  },
  {
   "cell_type": "code",
   "execution_count": 2,
   "id": "505226de",
   "metadata": {},
   "outputs": [
    {
     "data": {
      "image/png": "[encoded data removed]",
      "text/plain": [
       "<Figure size 432x288 with 1 Axes>"
      ]
     },
     "metadata": {
      "needs_background": "light"
     },
     "output_type": "display_data"
    }
   ],
   "source": [
    "sales = np.array([670, 685, 861, 897, 958, 1016, 1003, 1025, 952, 929, 794, 702])\n",
    "month_lengths = np.array([0, 31, 28, 31, 30, 31, 30, 31, 31, 30, 31, 30])\n",
    "month_lengths2 = np.array(list(month_lengths[1:]) + [31])\n",
    "month_starts = np.cumsum(month_lengths)\n",
    "month_labels = calendar.month_abbr[1:13]\n",
    "n_harmonics = 3\n",
    "sales_profile = bp.fit(sales, month_starts, n_harmonics, (0, 365))\n",
    "plt.bar(month_starts, sales/month_lengths2, month_lengths2, align = 'edge', facecolor = 'c', edgecolor = 'k')\n",
    "sales_profile.plot(365, color = 'm', linewidth = 3)\n",
    "plt.xlim(sales_profile.time_range)\n",
    "plt.xticks(month_starts + 0.5*month_lengths2, month_labels)\n",
    "plt.ylabel('Average Daily Sales (Millions of Dollars)')\n",
    "plt.title('US Paint and Wallpaper Sales by Month, 2010-2017\\n(Inflation Adjusted)')\n",
    "plt.show()"
   ]
  },
  {
   "cell_type": "markdown",
   "id": "c1716659",
   "metadata": {},
   "source": [
    "# Using the fit profile, estimate the 2018 weekly paint and wallpaper sales between President's Day (Feb 19) and Memorial Day (May 28)"
   ]
  },
  {
   "cell_type": "code",
   "execution_count": 3,
   "id": "a6b21332",
   "metadata": {},
   "outputs": [
    {
     "data": {
      "text/html": [
       "<div>\n",
       "<style scoped>\n",
       "    .dataframe tbody tr th:only-of-type {\n",
       "        vertical-align: middle;\n",
       "    }\n",
       "\n",
       "    .dataframe tbody tr th {\n",
       "        vertical-align: top;\n",
       "    }\n",
       "\n",
       "    .dataframe thead th {\n",
       "        text-align: right;\n",
       "    }\n",
       "</style>\n",
       "<table border=\"1\" class=\"dataframe\">\n",
       "  <thead>\n",
       "    <tr style=\"text-align: right;\">\n",
       "      <th></th>\n",
       "      <th>Sales</th>\n",
       "    </tr>\n",
       "    <tr>\n",
       "      <th>Week</th>\n",
       "      <th></th>\n",
       "    </tr>\n",
       "  </thead>\n",
       "  <tbody>\n",
       "    <tr>\n",
       "      <th>Feb19</th>\n",
       "      <td>176.841116</td>\n",
       "    </tr>\n",
       "    <tr>\n",
       "      <th>Feb26</th>\n",
       "      <td>182.929408</td>\n",
       "    </tr>\n",
       "    <tr>\n",
       "      <th>Mar05</th>\n",
       "      <td>188.699142</td>\n",
       "    </tr>\n",
       "    <tr>\n",
       "      <th>Mar12</th>\n",
       "      <td>193.921194</td>\n",
       "    </tr>\n",
       "    <tr>\n",
       "      <th>Mar19</th>\n",
       "      <td>198.458013</td>\n",
       "    </tr>\n",
       "    <tr>\n",
       "      <th>Mar26</th>\n",
       "      <td>202.275635</td>\n",
       "    </tr>\n",
       "    <tr>\n",
       "      <th>Apr02</th>\n",
       "      <td>205.438091</td>\n",
       "    </tr>\n",
       "    <tr>\n",
       "      <th>Apr09</th>\n",
       "      <td>208.085751</td>\n",
       "    </tr>\n",
       "    <tr>\n",
       "      <th>Apr16</th>\n",
       "      <td>210.402889</td>\n",
       "    </tr>\n",
       "    <tr>\n",
       "      <th>Apr23</th>\n",
       "      <td>212.581405</td>\n",
       "    </tr>\n",
       "    <tr>\n",
       "      <th>Apr30</th>\n",
       "      <td>214.787191</td>\n",
       "    </tr>\n",
       "    <tr>\n",
       "      <th>May07</th>\n",
       "      <td>217.133747</td>\n",
       "    </tr>\n",
       "    <tr>\n",
       "      <th>May14</th>\n",
       "      <td>219.665673</td>\n",
       "    </tr>\n",
       "    <tr>\n",
       "      <th>May21</th>\n",
       "      <td>222.353073</td>\n",
       "    </tr>\n",
       "  </tbody>\n",
       "</table>\n",
       "</div>"
      ],
      "text/plain": [
       "            Sales\n",
       "Week             \n",
       "Feb19  176.841116\n",
       "Feb26  182.929408\n",
       "Mar05  188.699142\n",
       "Mar12  193.921194\n",
       "Mar19  198.458013\n",
       "Mar26  202.275635\n",
       "Apr02  205.438091\n",
       "Apr09  208.085751\n",
       "Apr16  210.402889\n",
       "Apr23  212.581405\n",
       "Apr30  214.787191\n",
       "May07  217.133747\n",
       "May14  219.665673\n",
       "May21  222.353073"
      ]
     },
     "execution_count": 3,
     "metadata": {},
     "output_type": "execute_result"
    }
   ],
   "source": [
    "Feb19 = month_starts[1] + 18 #Month start numbers are zero-indexed\n",
    "May28 = month_starts[4] + 27\n",
    "weekly_sales = sales_profile[Feb19:May28:7]\n",
    "\n",
    "week_starts = []\n",
    "startdate = datetime(2018, 2, 19)\n",
    "for i in range(14):\n",
    "    week_starts.append(startdate.strftime('%b%d'))\n",
    "    startdate += timedelta(days = 7)\n",
    "weekly_sales_with_labels = pd.DataFrame({'Sales': pd.Series(weekly_sales, index = week_starts)})\n",
    "weekly_sales_with_labels.index.name = 'Week'\n",
    "weekly_sales_with_labels"
   ]
  },
  {
   "cell_type": "code",
   "execution_count": null,
   "id": "1a3b4a95",
   "metadata": {},
   "outputs": [],
   "source": []
  }
 ],
 "metadata": {
  "kernelspec": {
   "display_name": "Python 3 (ipykernel)",
   "language": "python",
   "name": "python3"
  },
  "language_info": {
   "codemirror_mode": {
    "name": "ipython",
    "version": 3
   },
   "file_extension": ".py",
   "mimetype": "text/x-python",
   "name": "python",
   "nbconvert_exporter": "python",
   "pygments_lexer": "ipython3",
   "version": "3.10.4"
  }
 },
 "nbformat": 4,
 "nbformat_minor": 5
}
