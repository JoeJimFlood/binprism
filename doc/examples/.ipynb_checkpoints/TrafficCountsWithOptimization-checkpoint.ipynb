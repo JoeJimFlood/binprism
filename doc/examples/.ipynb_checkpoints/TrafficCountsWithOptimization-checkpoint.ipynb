{
 "cells": [
  {
   "cell_type": "code",
   "execution_count": 1,
   "id": "8e4cd0d7",
   "metadata": {},
   "outputs": [],
   "source": [
    "import numpy as np\n",
    "import matplotlib.pyplot as plt\n",
    "import binprism as bp\n",
    "from scipy.stats import pearsonr as r"
   ]
  },
  {
   "cell_type": "code",
   "execution_count": 2,
   "id": "3951e205",
   "metadata": {},
   "outputs": [],
   "source": [
    "eb_counts = [590, 353, 301, 230, 393, 655, 1469, 2067, 2549, 2375, 1783, 2076,\n",
    "             2193, 2017, 2513, 3262, 3294, 2915, 2657, 2412, 2323, 1928, 1925, 1118]\n",
    "wb_counts = [387, 316, 237, 219, 442, 1491, 2472, 2716, 2809, 2294, 2159, 1991,\n",
    "             2380, 2119, 2052, 2333, 2434, 2122, 2188, 2385, 1821, 1760, 1314, 836]\n",
    "hours = list(range(24))\n",
    "n_harmonics = 5\n",
    "time_range = (0, 24)"
   ]
  },
  {
   "cell_type": "markdown",
   "id": "8174cde0",
   "metadata": {},
   "source": [
    "#Estimate profiles"
   ]
  },
  {
   "cell_type": "code",
   "execution_count": 3,
   "id": "aa45c2da",
   "metadata": {},
   "outputs": [],
   "source": [
    "eb_profile_linear = bp.fit(eb_counts, hours, n_harmonics, time_range)\n",
    "wb_profile_linear = bp.fit(wb_counts, hours, n_harmonics, time_range)"
   ]
  },
  {
   "cell_type": "code",
   "execution_count": 4,
   "id": "0d527d6d",
   "metadata": {},
   "outputs": [
    {
     "ename": "KeyboardInterrupt",
     "evalue": "",
     "output_type": "error",
     "traceback": [
      "\u001b[1;31m---------------------------------------------------------------------------\u001b[0m",
      "\u001b[1;31mKeyboardInterrupt\u001b[0m                         Traceback (most recent call last)",
      "Input \u001b[1;32mIn [4]\u001b[0m, in \u001b[0;36m<cell line: 1>\u001b[1;34m()\u001b[0m\n\u001b[1;32m----> 1\u001b[0m eb_profile_nonlinear \u001b[38;5;241m=\u001b[39m \u001b[43mbp\u001b[49m\u001b[38;5;241;43m.\u001b[39;49m\u001b[43mfit\u001b[49m\u001b[43m(\u001b[49m\u001b[43meb_counts\u001b[49m\u001b[43m,\u001b[49m\u001b[43m \u001b[49m\u001b[43mhours\u001b[49m\u001b[43m,\u001b[49m\u001b[43m \u001b[49m\u001b[43mn_harmonics\u001b[49m\u001b[43m,\u001b[49m\u001b[43m \u001b[49m\u001b[43mtime_range\u001b[49m\u001b[43m,\u001b[49m\u001b[43m \u001b[49m\u001b[43moptimize\u001b[49m\u001b[43m \u001b[49m\u001b[38;5;241;43m=\u001b[39;49m\u001b[43m \u001b[49m\u001b[38;5;28;43;01mTrue\u001b[39;49;00m\u001b[43m)\u001b[49m\n\u001b[0;32m      2\u001b[0m wb_profile_nonlinear \u001b[38;5;241m=\u001b[39m bp\u001b[38;5;241m.\u001b[39mfit(wb_counts, hours, n_harmonics, time_range, optimize \u001b[38;5;241m=\u001b[39m \u001b[38;5;28;01mTrue\u001b[39;00m)\n",
      "File \u001b[1;32m~\\anaconda3\\envs\\binprism_dev\\lib\\site-packages\\binprism\\util\\fit.py:76\u001b[0m, in \u001b[0;36mfit\u001b[1;34m(data, bins, n_harmonics, time_range, optimize, optimization_method, optimization_norm, **optimization_args)\u001b[0m\n\u001b[0;32m     74\u001b[0m         \u001b[38;5;28;01mreturn\u001b[39;00m np\u001b[38;5;241m.\u001b[39mlinalg\u001b[38;5;241m.\u001b[39mnorm(dist\u001b[38;5;241m.\u001b[39mcdf(bins[\u001b[38;5;241m1\u001b[39m:]) \u001b[38;5;241m-\u001b[39m dist\u001b[38;5;241m.\u001b[39mcdf(bins[:\u001b[38;5;241m-\u001b[39m\u001b[38;5;241m1\u001b[39m]) \u001b[38;5;241m-\u001b[39m data\u001b[38;5;241m/\u001b[39mdata\u001b[38;5;241m.\u001b[39msum(), optimization_norm)\n\u001b[0;32m     75\u001b[0m     init_coefs \u001b[38;5;241m=\u001b[39m np\u001b[38;5;241m.\u001b[39mhstack((np\u001b[38;5;241m.\u001b[39mreal(c), np\u001b[38;5;241m.\u001b[39mimag(c)))\n\u001b[1;32m---> 76\u001b[0m     opt_coefs \u001b[38;5;241m=\u001b[39m \u001b[38;5;28mgetattr\u001b[39m(scipy\u001b[38;5;241m.\u001b[39moptimize, optimization_method)(error, init_coefs, \u001b[38;5;241m*\u001b[39m\u001b[38;5;241m*\u001b[39moptimization_args)\n\u001b[0;32m     77\u001b[0m     c \u001b[38;5;241m=\u001b[39m opt_coefs[:K\u001b[38;5;241m+\u001b[39m\u001b[38;5;241m1\u001b[39m] \u001b[38;5;241m+\u001b[39m \u001b[38;5;241m1\u001b[39mj\u001b[38;5;241m*\u001b[39mopt_coefs[K\u001b[38;5;241m+\u001b[39m\u001b[38;5;241m1\u001b[39m:]\n\u001b[0;32m     79\u001b[0m \u001b[38;5;66;03m#Create distribution\u001b[39;00m\n",
      "File \u001b[1;32m~\\anaconda3\\envs\\binprism_dev\\lib\\site-packages\\scipy\\optimize\\optimize.py:580\u001b[0m, in \u001b[0;36mfmin\u001b[1;34m(func, x0, args, xtol, ftol, maxiter, maxfun, full_output, disp, retall, callback, initial_simplex)\u001b[0m\n\u001b[0;32m    471\u001b[0m \u001b[38;5;124;03m\"\"\"\u001b[39;00m\n\u001b[0;32m    472\u001b[0m \u001b[38;5;124;03mMinimize a function using the downhill simplex algorithm.\u001b[39;00m\n\u001b[0;32m    473\u001b[0m \n\u001b[1;32m   (...)\u001b[0m\n\u001b[0;32m    570\u001b[0m \n\u001b[0;32m    571\u001b[0m \u001b[38;5;124;03m\"\"\"\u001b[39;00m\n\u001b[0;32m    572\u001b[0m opts \u001b[38;5;241m=\u001b[39m {\u001b[38;5;124m'\u001b[39m\u001b[38;5;124mxatol\u001b[39m\u001b[38;5;124m'\u001b[39m: xtol,\n\u001b[0;32m    573\u001b[0m         \u001b[38;5;124m'\u001b[39m\u001b[38;5;124mfatol\u001b[39m\u001b[38;5;124m'\u001b[39m: ftol,\n\u001b[0;32m    574\u001b[0m         \u001b[38;5;124m'\u001b[39m\u001b[38;5;124mmaxiter\u001b[39m\u001b[38;5;124m'\u001b[39m: maxiter,\n\u001b[1;32m   (...)\u001b[0m\n\u001b[0;32m    577\u001b[0m         \u001b[38;5;124m'\u001b[39m\u001b[38;5;124mreturn_all\u001b[39m\u001b[38;5;124m'\u001b[39m: retall,\n\u001b[0;32m    578\u001b[0m         \u001b[38;5;124m'\u001b[39m\u001b[38;5;124minitial_simplex\u001b[39m\u001b[38;5;124m'\u001b[39m: initial_simplex}\n\u001b[1;32m--> 580\u001b[0m res \u001b[38;5;241m=\u001b[39m _minimize_neldermead(func, x0, args, callback\u001b[38;5;241m=\u001b[39mcallback, \u001b[38;5;241m*\u001b[39m\u001b[38;5;241m*\u001b[39mopts)\n\u001b[0;32m    581\u001b[0m \u001b[38;5;28;01mif\u001b[39;00m full_output:\n\u001b[0;32m    582\u001b[0m     retlist \u001b[38;5;241m=\u001b[39m res[\u001b[38;5;124m'\u001b[39m\u001b[38;5;124mx\u001b[39m\u001b[38;5;124m'\u001b[39m], res[\u001b[38;5;124m'\u001b[39m\u001b[38;5;124mfun\u001b[39m\u001b[38;5;124m'\u001b[39m], res[\u001b[38;5;124m'\u001b[39m\u001b[38;5;124mnit\u001b[39m\u001b[38;5;124m'\u001b[39m], res[\u001b[38;5;124m'\u001b[39m\u001b[38;5;124mnfev\u001b[39m\u001b[38;5;124m'\u001b[39m], res[\u001b[38;5;124m'\u001b[39m\u001b[38;5;124mstatus\u001b[39m\u001b[38;5;124m'\u001b[39m]\n",
      "File \u001b[1;32m~\\anaconda3\\envs\\binprism_dev\\lib\\site-packages\\scipy\\optimize\\optimize.py:775\u001b[0m, in \u001b[0;36m_minimize_neldermead\u001b[1;34m(func, x0, args, callback, maxiter, maxfev, disp, return_all, initial_simplex, xatol, fatol, adaptive, bounds, **unknown_options)\u001b[0m\n\u001b[0;32m    773\u001b[0m \u001b[38;5;28;01mif\u001b[39;00m bounds \u001b[38;5;129;01mis\u001b[39;00m \u001b[38;5;129;01mnot\u001b[39;00m \u001b[38;5;28;01mNone\u001b[39;00m:\n\u001b[0;32m    774\u001b[0m     xe \u001b[38;5;241m=\u001b[39m np\u001b[38;5;241m.\u001b[39mclip(xe, lower_bound, upper_bound)\n\u001b[1;32m--> 775\u001b[0m fxe \u001b[38;5;241m=\u001b[39m func(xe)\n\u001b[0;32m    777\u001b[0m \u001b[38;5;28;01mif\u001b[39;00m fxe \u001b[38;5;241m<\u001b[39m fxr:\n\u001b[0;32m    778\u001b[0m     sim[\u001b[38;5;241m-\u001b[39m\u001b[38;5;241m1\u001b[39m] \u001b[38;5;241m=\u001b[39m xe\n",
      "File \u001b[1;32m~\\anaconda3\\envs\\binprism_dev\\lib\\site-packages\\scipy\\optimize\\optimize.py:464\u001b[0m, in \u001b[0;36m_wrap_function.<locals>.function_wrapper\u001b[1;34m(x, *wrapper_args)\u001b[0m\n\u001b[0;32m    462\u001b[0m \u001b[38;5;28;01mdef\u001b[39;00m \u001b[38;5;21mfunction_wrapper\u001b[39m(x, \u001b[38;5;241m*\u001b[39mwrapper_args):\n\u001b[0;32m    463\u001b[0m     ncalls[\u001b[38;5;241m0\u001b[39m] \u001b[38;5;241m+\u001b[39m\u001b[38;5;241m=\u001b[39m \u001b[38;5;241m1\u001b[39m\n\u001b[1;32m--> 464\u001b[0m     \u001b[38;5;28;01mreturn\u001b[39;00m \u001b[43mfunction\u001b[49m\u001b[43m(\u001b[49m\u001b[43mnp\u001b[49m\u001b[38;5;241;43m.\u001b[39;49m\u001b[43mcopy\u001b[49m\u001b[43m(\u001b[49m\u001b[43mx\u001b[49m\u001b[43m)\u001b[49m\u001b[43m,\u001b[49m\u001b[43m \u001b[49m\u001b[38;5;241;43m*\u001b[39;49m\u001b[43m(\u001b[49m\u001b[43mwrapper_args\u001b[49m\u001b[43m \u001b[49m\u001b[38;5;241;43m+\u001b[39;49m\u001b[43m \u001b[49m\u001b[43margs\u001b[49m\u001b[43m)\u001b[49m\u001b[43m)\u001b[49m\n",
      "File \u001b[1;32m~\\anaconda3\\envs\\binprism_dev\\lib\\site-packages\\binprism\\util\\fit.py:73\u001b[0m, in \u001b[0;36mfit.<locals>.error\u001b[1;34m(params)\u001b[0m\n\u001b[0;32m     71\u001b[0m coefs \u001b[38;5;241m=\u001b[39m params[:K\u001b[38;5;241m+\u001b[39m\u001b[38;5;241m1\u001b[39m] \u001b[38;5;241m+\u001b[39m \u001b[38;5;241m1\u001b[39mj\u001b[38;5;241m*\u001b[39mparams[K\u001b[38;5;241m+\u001b[39m\u001b[38;5;241m1\u001b[39m:]\n\u001b[0;32m     72\u001b[0m fs \u001b[38;5;241m=\u001b[39m FourierSeries(coefs)\n\u001b[1;32m---> 73\u001b[0m dist \u001b[38;5;241m=\u001b[39m \u001b[43mPPD\u001b[49m\u001b[43m(\u001b[49m\u001b[43mfs\u001b[49m\u001b[43m)\u001b[49m\n\u001b[0;32m     74\u001b[0m \u001b[38;5;28;01mreturn\u001b[39;00m np\u001b[38;5;241m.\u001b[39mlinalg\u001b[38;5;241m.\u001b[39mnorm(dist\u001b[38;5;241m.\u001b[39mcdf(bins[\u001b[38;5;241m1\u001b[39m:]) \u001b[38;5;241m-\u001b[39m dist\u001b[38;5;241m.\u001b[39mcdf(bins[:\u001b[38;5;241m-\u001b[39m\u001b[38;5;241m1\u001b[39m]) \u001b[38;5;241m-\u001b[39m data\u001b[38;5;241m/\u001b[39mdata\u001b[38;5;241m.\u001b[39msum(), optimization_norm)\n",
      "File \u001b[1;32m~\\anaconda3\\envs\\binprism_dev\\lib\\site-packages\\binprism\\core\\PPD.py:35\u001b[0m, in \u001b[0;36mPPD.__init__\u001b[1;34m(self, log_pdf_coef)\u001b[0m\n\u001b[0;32m     32\u001b[0m \u001b[38;5;28;01mdef\u001b[39;00m \u001b[38;5;21m__init__\u001b[39m(\u001b[38;5;28mself\u001b[39m, log_pdf_coef):\n\u001b[0;32m     34\u001b[0m     \u001b[38;5;28mself\u001b[39m\u001b[38;5;241m.\u001b[39mlog_pdf_coef \u001b[38;5;241m=\u001b[39m log_pdf_coef\n\u001b[1;32m---> 35\u001b[0m     init_area \u001b[38;5;241m=\u001b[39m \u001b[38;5;28;43mself\u001b[39;49m\u001b[38;5;241;43m.\u001b[39;49m\u001b[43mlog_pdf_coef\u001b[49m\u001b[38;5;241;43m.\u001b[39;49m\u001b[43mexp\u001b[49m\u001b[43m(\u001b[49m\u001b[43m)\u001b[49m\u001b[38;5;241m.\u001b[39mintegrate(\u001b[38;5;241m0\u001b[39m, \u001b[38;5;241m2\u001b[39m\u001b[38;5;241m*\u001b[39mpi)\n\u001b[0;32m     36\u001b[0m     \u001b[38;5;28mself\u001b[39m\u001b[38;5;241m.\u001b[39mlog_pdf_coef[\u001b[38;5;241m0\u001b[39m] \u001b[38;5;241m-\u001b[39m\u001b[38;5;241m=\u001b[39m log(init_area) \u001b[38;5;66;03m#Normalize so that area of one period is equal to one\u001b[39;00m\n\u001b[0;32m     37\u001b[0m     \u001b[38;5;28mself\u001b[39m\u001b[38;5;241m.\u001b[39mL \u001b[38;5;241m=\u001b[39m \u001b[38;5;28mself\u001b[39m\u001b[38;5;241m.\u001b[39mlog_pdf_coef\n",
      "File \u001b[1;32m~\\anaconda3\\envs\\binprism_dev\\lib\\site-packages\\binprism\\core\\FourierSeries.py:203\u001b[0m, in \u001b[0;36mFourierSeries.exp\u001b[1;34m(self, tol, max_iter)\u001b[0m\n\u001b[0;32m    201\u001b[0m out \u001b[38;5;241m=\u001b[39m FourierSeries([\u001b[38;5;241m1\u001b[39m])\n\u001b[0;32m    202\u001b[0m \u001b[38;5;28;01mfor\u001b[39;00m n \u001b[38;5;129;01min\u001b[39;00m \u001b[38;5;28mrange\u001b[39m(\u001b[38;5;241m1\u001b[39m, max_iter):\n\u001b[1;32m--> 203\u001b[0m     change \u001b[38;5;241m=\u001b[39m (\u001b[38;5;28;43mself\u001b[39;49m\u001b[38;5;241;43m*\u001b[39;49m\u001b[38;5;241;43m*\u001b[39;49m\u001b[43mn\u001b[49m) \u001b[38;5;241m/\u001b[39m (factorial(n))\n\u001b[0;32m    204\u001b[0m     out \u001b[38;5;241m+\u001b[39m\u001b[38;5;241m=\u001b[39m change\n\u001b[0;32m    205\u001b[0m     \u001b[38;5;28;01mif\u001b[39;00m np\u001b[38;5;241m.\u001b[39mlinalg\u001b[38;5;241m.\u001b[39mnorm(change\u001b[38;5;241m.\u001b[39mc, np\u001b[38;5;241m.\u001b[39minf) \u001b[38;5;241m<\u001b[39m tol:\n",
      "File \u001b[1;32m~\\anaconda3\\envs\\binprism_dev\\lib\\site-packages\\binprism\\core\\FourierSeries.py:105\u001b[0m, in \u001b[0;36mFourierSeries.__pow__\u001b[1;34m(self, n)\u001b[0m\n\u001b[0;32m    104\u001b[0m \u001b[38;5;28;01mdef\u001b[39;00m \u001b[38;5;21m__pow__\u001b[39m(\u001b[38;5;28mself\u001b[39m, n):\n\u001b[1;32m--> 105\u001b[0m     \u001b[38;5;28;01mreturn\u001b[39;00m \u001b[38;5;28;43mself\u001b[39;49m\u001b[38;5;241;43m.\u001b[39;49m\u001b[43mpower\u001b[49m\u001b[43m(\u001b[49m\u001b[43mn\u001b[49m\u001b[43m)\u001b[49m\n",
      "File \u001b[1;32m~\\anaconda3\\envs\\binprism_dev\\lib\\site-packages\\binprism\\core\\FourierSeries.py:178\u001b[0m, in \u001b[0;36mFourierSeries.power\u001b[1;34m(self, n)\u001b[0m\n\u001b[0;32m    175\u001b[0m coeff \u001b[38;5;241m=\u001b[39m result\n\u001b[0;32m    177\u001b[0m \u001b[38;5;28;01mfor\u001b[39;00m i \u001b[38;5;129;01min\u001b[39;00m \u001b[38;5;28mrange\u001b[39m(\u001b[38;5;241m1\u001b[39m, n):\n\u001b[1;32m--> 178\u001b[0m     result \u001b[38;5;241m=\u001b[39m \u001b[43mnp\u001b[49m\u001b[38;5;241;43m.\u001b[39;49m\u001b[43mconvolve\u001b[49m\u001b[43m(\u001b[49m\u001b[43mresult\u001b[49m\u001b[43m,\u001b[49m\u001b[43m \u001b[49m\u001b[43mcoeff\u001b[49m\u001b[43m)\u001b[49m\n\u001b[0;32m    180\u001b[0m result \u001b[38;5;241m=\u001b[39m np\u001b[38;5;241m.\u001b[39mfft\u001b[38;5;241m.\u001b[39mifftshift(result)\n\u001b[0;32m    181\u001b[0m K \u001b[38;5;241m=\u001b[39m \u001b[38;5;28mlen\u001b[39m(result)\u001b[38;5;241m/\u001b[39m\u001b[38;5;241m/\u001b[39m\u001b[38;5;241m2\u001b[39m\n",
      "File \u001b[1;32m<__array_function__ internals>:180\u001b[0m, in \u001b[0;36mconvolve\u001b[1;34m(*args, **kwargs)\u001b[0m\n",
      "File \u001b[1;32m~\\anaconda3\\envs\\binprism_dev\\lib\\site-packages\\numpy\\core\\numeric.py:844\u001b[0m, in \u001b[0;36mconvolve\u001b[1;34m(a, v, mode)\u001b[0m\n\u001b[0;32m    842\u001b[0m \u001b[38;5;28;01mif\u001b[39;00m \u001b[38;5;28mlen\u001b[39m(v) \u001b[38;5;241m==\u001b[39m \u001b[38;5;241m0\u001b[39m:\n\u001b[0;32m    843\u001b[0m     \u001b[38;5;28;01mraise\u001b[39;00m \u001b[38;5;167;01mValueError\u001b[39;00m(\u001b[38;5;124m'\u001b[39m\u001b[38;5;124mv cannot be empty\u001b[39m\u001b[38;5;124m'\u001b[39m)\n\u001b[1;32m--> 844\u001b[0m \u001b[38;5;28;01mreturn\u001b[39;00m \u001b[43mmultiarray\u001b[49m\u001b[38;5;241;43m.\u001b[39;49m\u001b[43mcorrelate\u001b[49m\u001b[43m(\u001b[49m\u001b[43ma\u001b[49m\u001b[43m,\u001b[49m\u001b[43m \u001b[49m\u001b[43mv\u001b[49m\u001b[43m[\u001b[49m\u001b[43m:\u001b[49m\u001b[43m:\u001b[49m\u001b[38;5;241;43m-\u001b[39;49m\u001b[38;5;241;43m1\u001b[39;49m\u001b[43m]\u001b[49m\u001b[43m,\u001b[49m\u001b[43m \u001b[49m\u001b[43mmode\u001b[49m\u001b[43m)\u001b[49m\n",
      "\u001b[1;31mKeyboardInterrupt\u001b[0m: "
     ]
    }
   ],
   "source": [
    "eb_profile_nonlinear = bp.fit(eb_counts, hours, n_harmonics, time_range, optimize = True)\n",
    "wb_profile_nonlinear = bp.fit(wb_counts, hours, n_harmonics, time_range, optimize = True)"
   ]
  },
  {
   "cell_type": "markdown",
   "id": "61b1c667",
   "metadata": {},
   "source": [
    "#Eastbound Check"
   ]
  },
  {
   "cell_type": "code",
   "execution_count": null,
   "id": "b94fd164",
   "metadata": {},
   "outputs": [],
   "source": [
    "print((eb_profile_linear.dist.log_pdf_coef.c))\n",
    "print((eb_profile_nonlinear.dist.log_pdf_coef.c))"
   ]
  },
  {
   "cell_type": "code",
   "execution_count": null,
   "id": "87391dc0",
   "metadata": {},
   "outputs": [],
   "source": [
    "plt.bar(range(24), eb_counts, width = 1, align = 'edge', edgecolor = 'k', facecolor = '#cccccc')\n",
    "eb_profile_linear.plot(1440, label = 'linear')\n",
    "eb_profile_nonlinear.plot(1440, label = 'nonlinear')\n",
    "plt.xlim(0, 24)\n",
    "plt.legend(loc = 'best')\n",
    "plt.show()"
   ]
  },
  {
   "cell_type": "code",
   "execution_count": null,
   "id": "51f1b8c7",
   "metadata": {},
   "outputs": [],
   "source": [
    "eb_counts_linear = eb_profile_linear[range(25)]\n",
    "eb_counts_nonlinear = eb_profile_nonlinear[range(25)]\n",
    "\n",
    "print('Linear:    ' + str(r(eb_counts, eb_counts_linear)))\n",
    "print('Nonlinear: ' + str(r(eb_counts, eb_counts_nonlinear)))"
   ]
  },
  {
   "cell_type": "markdown",
   "id": "a792426e",
   "metadata": {},
   "source": [
    "#Westbound check"
   ]
  },
  {
   "cell_type": "code",
   "execution_count": null,
   "id": "ff6b40aa",
   "metadata": {},
   "outputs": [],
   "source": [
    "print((wb_profile_linear.dist.log_pdf_coef.c))\n",
    "print((wb_profile_nonlinear.dist.log_pdf_coef.c))"
   ]
  },
  {
   "cell_type": "code",
   "execution_count": null,
   "id": "7553d4e1",
   "metadata": {},
   "outputs": [],
   "source": [
    "plt.bar(range(24), wb_counts, width = 1, align = 'edge', edgecolor = 'k', facecolor = '#cccccc')\n",
    "wb_profile_linear.plot(1440, label = 'linear')\n",
    "wb_profile_nonlinear.plot(1440, label = 'nonlinear')\n",
    "plt.xlim(0, 24)\n",
    "plt.legend(loc = 'best')\n",
    "plt.show()"
   ]
  },
  {
   "cell_type": "code",
   "execution_count": null,
   "id": "a4a8ee6a",
   "metadata": {},
   "outputs": [],
   "source": [
    "wb_counts_linear = wb_profile_linear[range(25)]\n",
    "wb_counts_nonlinear = wb_profile_nonlinear[range(25)]\n",
    "\n",
    "print('Linear:    ' + str(r(wb_counts, wb_counts_linear)))\n",
    "print('Nonlinear: ' + str(r(wb_counts, wb_counts_nonlinear)))"
   ]
  }
 ],
 "metadata": {
  "kernelspec": {
   "display_name": "Python 3 (ipykernel)",
   "language": "python",
   "name": "python3"
  },
  "language_info": {
   "codemirror_mode": {
    "name": "ipython",
    "version": 3
   },
   "file_extension": ".py",
   "mimetype": "text/x-python",
   "name": "python",
   "nbconvert_exporter": "python",
   "pygments_lexer": "ipython3",
   "version": "3.10.4"
  }
 },
 "nbformat": 4,
 "nbformat_minor": 5
}
