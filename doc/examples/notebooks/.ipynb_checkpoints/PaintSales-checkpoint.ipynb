{
 "cells": [
  {
   "cell_type": "code",
   "execution_count": null,
   "id": "0a22c9ab",
   "metadata": {},
   "outputs": [],
   "source": [
    "#Data from the US Census Bureau's Monthly Retail Trade statistics (https://www.census.gov/retail/index.html#mrts)\n",
    "\n",
    "import numpy as np\n",
    "import pandas as pd\n",
    "import matplotlib.pyplot as plt"
   ]
  }
 ],
 "metadata": {
  "kernelspec": {
   "display_name": "Python 3 (ipykernel)",
   "language": "python",
   "name": "python3"
  },
  "language_info": {
   "codemirror_mode": {
    "name": "ipython",
    "version": 3
   },
   "file_extension": ".py",
   "mimetype": "text/x-python",
   "name": "python",
   "nbconvert_exporter": "python",
   "pygments_lexer": "ipython3",
   "version": "3.10.4"
  }
 },
 "nbformat": 4,
 "nbformat_minor": 5
}
