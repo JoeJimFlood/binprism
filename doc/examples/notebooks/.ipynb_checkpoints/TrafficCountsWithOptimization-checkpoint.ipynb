{
 "cells": [
  {
   "cell_type": "code",
   "execution_count": 1,
   "id": "32ff6cdf",
   "metadata": {},
   "outputs": [],
   "source": [
    "#Counts obtained from the Delaware Valley Regional Planning Commission (https://www.dvrpc.org/webmaps/TrafficCounts)\n",
    "\n",
    "import numpy as np\n",
    "import matplotlib.pyplot as plt\n",
    "import binprism as bp\n",
    "from scipy.stats import pearsonr as r\n",
    "import time"
   ]
  },
  {
   "cell_type": "code",
   "execution_count": 2,
   "id": "4c0de940",
   "metadata": {},
   "outputs": [],
   "source": [
    "eb_counts = [590, 353, 301, 230, 393, 655, 1469, 2067, 2549, 2375, 1783, 2076,\n",
    "             2193, 2017, 2513, 3262, 3294, 2915, 2657, 2412, 2323, 1928, 1925, 1118]\n",
    "wb_counts = [387, 316, 237, 219, 442, 1491, 2472, 2716, 2809, 2294, 2159, 1991,\n",
    "             2380, 2119, 2052, 2333, 2434, 2122, 2188, 2385, 1821, 1760, 1314, 836]\n",
    "hours = list(range(24))\n",
    "n_harmonics = 5\n",
    "time_range = (0, 24)"
   ]
  },
  {
   "cell_type": "markdown",
   "id": "821e81c2",
   "metadata": {},
   "source": [
    "# Estimate profiles"
   ]
  },
  {
   "cell_type": "code",
   "execution_count": 3,
   "id": "a9cd9907",
   "metadata": {},
   "outputs": [
    {
     "name": "stdout",
     "output_type": "stream",
     "text": [
      "Eastbound: 0.042555809020996094\n",
      "Westbound: 0.010966777801513672\n",
      "Total:     0.053522586822509766\n"
     ]
    }
   ],
   "source": [
    "t0 = time.time()\n",
    "eb_profile_linear = bp.fit(eb_counts, hours, n_harmonics, time_range)\n",
    "t1 = time.time()\n",
    "wb_profile_linear = bp.fit(wb_counts, hours, n_harmonics, time_range)\n",
    "t2 = time.time()\n",
    "print('Eastbound: {}'.format(t1 - t0))\n",
    "print('Westbound: {}'.format(t2 - t1))\n",
    "print('Total:     {}'.format(t2 - t0))"
   ]
  },
  {
   "cell_type": "code",
   "execution_count": 4,
   "id": "2b08a9a7",
   "metadata": {},
   "outputs": [
    {
     "name": "stdout",
     "output_type": "stream",
     "text": [
      "Eastbound: 3.3427209854125977\n",
      "Westbound: 4.017942190170288\n",
      "Total:     7.360663175582886\n"
     ]
    }
   ],
   "source": [
    "t0 = time.time()\n",
    "eb_profile_nonlinear = bp.fit(eb_counts, hours, n_harmonics, time_range, optimize = True)\n",
    "t1 = time.time()\n",
    "wb_profile_nonlinear = bp.fit(wb_counts, hours, n_harmonics, time_range, optimize = True)\n",
    "t2 = time.time()\n",
    "print('Eastbound: {}'.format(t1 - t0))\n",
    "print('Westbound: {}'.format(t2 - t1))\n",
    "print('Total:     {}'.format(t2 - t0))"
   ]
  },
  {
   "cell_type": "markdown",
   "id": "451aafbd",
   "metadata": {},
   "source": [
    "# Eastbound Check"
   ]
  },
  {
   "cell_type": "code",
   "execution_count": 5,
   "id": "d45f2a81",
   "metadata": {},
   "outputs": [
    {
     "name": "stdout",
     "output_type": "stream",
     "text": [
      "[-2.07232848-1.90884332e-17j -0.32788341+3.40836381e-01j\n",
      " -0.06865984+2.58643049e-01j  0.13560728+8.09984106e-02j\n",
      "  0.0141557 +1.15786275e-03j -0.02668538+4.40790769e-03j]\n",
      "[-2.08155789+0.j         -0.33305462+0.35143701j -0.06005887+0.26923305j\n",
      "  0.15110018+0.08169448j  0.02224015-0.00482918j -0.01633153-0.0097219j ]\n"
     ]
    }
   ],
   "source": [
    "print((eb_profile_linear.dist.log_pdf_coef.c))\n",
    "print((eb_profile_nonlinear.dist.log_pdf_coef.c))"
   ]
  },
  {
   "cell_type": "code",
   "execution_count": 6,
   "id": "1dcd3e36",
   "metadata": {},
   "outputs": [
    {
     "data": {
      "image/png": "[encoded data removed]",
      "text/plain": [
       "<Figure size 432x288 with 1 Axes>"
      ]
     },
     "metadata": {
      "needs_background": "light"
     },
     "output_type": "display_data"
    }
   ],
   "source": [
    "plt.bar(range(24), eb_counts, width = 1, align = 'edge', edgecolor = 'k', facecolor = '#cccccc')\n",
    "eb_profile_linear.plot(1440, color = 'r', label = 'linear')\n",
    "eb_profile_nonlinear.plot(1440, color = 'b', label = 'nonlinear')\n",
    "plt.xlim(0, 24)\n",
    "plt.legend(loc = 'best')\n",
    "plt.show()"
   ]
  },
  {
   "cell_type": "code",
   "execution_count": 7,
   "id": "340ef38c",
   "metadata": {},
   "outputs": [
    {
     "name": "stdout",
     "output_type": "stream",
     "text": [
      "Correlation\n",
      "Linear:    (0.9906559776437415, 1.5644472426954018e-20)\n",
      "Nonlinear: (0.9915522306799751, 5.181335554699723e-21)\n",
      "\n",
      "\n",
      "%RMSE\n",
      "Linear:    7.040186622355783%\n",
      "Nonlinear: 6.697025024347734%\n"
     ]
    }
   ],
   "source": [
    "eb_counts_linear = eb_profile_linear[range(25)]\n",
    "eb_counts_nonlinear = eb_profile_nonlinear[range(25)]\n",
    "\n",
    "print('Correlation')\n",
    "print('Linear:    ' + str(r(eb_counts, eb_counts_linear)))\n",
    "print('Nonlinear: ' + str(r(eb_counts, eb_counts_nonlinear)))\n",
    "print('\\n')\n",
    "print('%RMSE')\n",
    "print('Linear:    {}%'.format(100*np.linalg.norm(eb_counts_linear - eb_counts)/np.sqrt(len(eb_counts))/np.array(eb_counts).mean()))\n",
    "print('Nonlinear: {}%'.format(100*np.linalg.norm(eb_counts_nonlinear - eb_counts)/np.sqrt(len(eb_counts))/np.array(eb_counts).mean()))"
   ]
  },
  {
   "cell_type": "markdown",
   "id": "1eaf465b",
   "metadata": {},
   "source": [
    "# Westbound check"
   ]
  },
  {
   "cell_type": "code",
   "execution_count": 8,
   "id": "86fd08d6",
   "metadata": {},
   "outputs": [
    {
     "name": "stdout",
     "output_type": "stream",
     "text": [
      "[-2.07008372-1.74972490e-17j -0.38733286+2.10298230e-01j\n",
      " -0.14007134+2.88783925e-01j  0.08523401+1.42588500e-01j\n",
      "  0.06165729-1.82098603e-02j -0.01919281-3.16324657e-02j]\n",
      "[-2.07287376+0.j         -0.39582748+0.20964734j -0.15291396+0.29220642j\n",
      "  0.07263646+0.15749381j  0.06381948+0.00820178j  0.00762041-0.01275529j]\n"
     ]
    }
   ],
   "source": [
    "print((wb_profile_linear.dist.log_pdf_coef.c))\n",
    "print((wb_profile_nonlinear.dist.log_pdf_coef.c))"
   ]
  },
  {
   "cell_type": "code",
   "execution_count": 9,
   "id": "d9b48a15",
   "metadata": {},
   "outputs": [
    {
     "data": {
      "image/png": "[encoded data removed]",
      "text/plain": [
       "<Figure size 432x288 with 1 Axes>"
      ]
     },
     "metadata": {
      "needs_background": "light"
     },
     "output_type": "display_data"
    }
   ],
   "source": [
    "plt.bar(range(24), wb_counts, width = 1, align = 'edge', edgecolor = 'k', facecolor = '#cccccc')\n",
    "wb_profile_linear.plot(1440, color = 'r', label = 'linear')\n",
    "wb_profile_nonlinear.plot(1440, color = 'b', label = 'nonlinear')\n",
    "plt.xlim(0, 24)\n",
    "plt.legend(loc = 'best')\n",
    "plt.show()"
   ]
  },
  {
   "cell_type": "code",
   "execution_count": 10,
   "id": "741a0d9f",
   "metadata": {},
   "outputs": [
    {
     "name": "stdout",
     "output_type": "stream",
     "text": [
      "Correlation\n",
      "Linear:    (0.9859742326477203, 1.3344897277634653e-18)\n",
      "Nonlinear: (0.9895916737808168, 5.099771068977725e-20)\n",
      "\n",
      "\n",
      "%RMSE\n",
      "Linear:    8.13328234646594%\n",
      "Nonlinear: 6.958450884628865%\n"
     ]
    }
   ],
   "source": [
    "wb_counts_linear = wb_profile_linear[range(25)]\n",
    "wb_counts_nonlinear = wb_profile_nonlinear[range(25)]\n",
    "\n",
    "print('Correlation')\n",
    "print('Linear:    ' + str(r(wb_counts, wb_counts_linear)))\n",
    "print('Nonlinear: ' + str(r(wb_counts, wb_counts_nonlinear)))\n",
    "print('\\n')\n",
    "print('%RMSE')\n",
    "print('Linear:    {}%'.format(100*np.linalg.norm(wb_counts_linear - wb_counts)/np.sqrt(len(wb_counts))/np.array(wb_counts).mean()))\n",
    "print('Nonlinear: {}%'.format(100*np.linalg.norm(wb_counts_nonlinear - wb_counts)/np.sqrt(len(wb_counts))/np.array(wb_counts).mean()))"
   ]
  },
  {
   "cell_type": "code",
   "execution_count": null,
   "id": "483de9c5",
   "metadata": {},
   "outputs": [],
   "source": []
  }
 ],
 "metadata": {
  "kernelspec": {
   "display_name": "Python 3 (ipykernel)",
   "language": "python",
   "name": "python3"
  },
  "language_info": {
   "codemirror_mode": {
    "name": "ipython",
    "version": 3
   },
   "file_extension": ".py",
   "mimetype": "text/x-python",
   "name": "python",
   "nbconvert_exporter": "python",
   "pygments_lexer": "ipython3",
   "version": "3.10.4"
  }
 },
 "nbformat": 4,
 "nbformat_minor": 5
}
